{
 "cells": [
  {
   "cell_type": "markdown",
   "metadata": {},
   "source": [
    "# Ejercicios de la primera semana\n",
    "\n",
    "A continuación se muestran algunos ejercicios sobre los temas de la semana: \n",
    "\n",
    "\n",
    "#### 1. Calcula el número $\\pi$ usando la fórmula\n",
    "\n",
    "$$\\pi=2\\prod_{i=1}^{\\infty}\\frac{4 i^2 }{4i^2-1 }$$\n",
    "\n",
    "\n",
    "\n"
   ]
  },
  {
   "cell_type": "code",
   "execution_count": 72,
   "metadata": {},
   "outputs": [
    {
     "name": "stdout",
     "output_type": "stream",
     "text": [
      "Hasta que valor quieres que llege la \"i\"\n",
      "3\n",
      "1.3333333333333333\n",
      "1.422222222222222\n",
      "1.4628571428571426\n",
      "Resultado con decimales 2.9257142857142853\n",
      "Resultado entero 2\n"
     ]
    }
   ],
   "source": [
    "print('Hasta que valor quieres que llege la \"i\"')\n",
    "n = int(input())\n",
    "z = 1\n",
    "for i in range (1,n+1):\n",
    "    z = z * ((4*(i**2)) / ((4*(i**2))-1))\n",
    "    print(z)\n",
    "y = 2 * z\n",
    "print('Resultado con decimales', y)\n",
    "print('Resultado entero', int(y))"
   ]
  },
  {
   "cell_type": "markdown",
   "metadata": {},
   "source": [
    "#### 2. Calcula las primeras 10 potencias de 2 ($2^n$). Guarda los valores para cada uno de los exponentes y regresa la suma como valor.\n"
   ]
  },
  {
   "cell_type": "code",
   "execution_count": 9,
   "metadata": {},
   "outputs": [
    {
     "name": "stdout",
     "output_type": "stream",
     "text": [
      "1023\n"
     ]
    }
   ],
   "source": [
    "milist = []\n",
    "n = 0\n",
    "suma = 0\n",
    "for i in range (0,10):\n",
    "    n = y\n",
    "    y = 2 ** i\n",
    "    x = y\n",
    "    n = y\n",
    "    milist.append(y)\n",
    "for i in milist:\n",
    "    suma = suma + i\n",
    "print(suma)\n"
   ]
  },
  {
   "cell_type": "markdown",
   "metadata": {},
   "source": [
    "#### 3. Obtener los primeros 10 numeros pares "
   ]
  },
  {
   "cell_type": "code",
   "execution_count": 57,
   "metadata": {},
   "outputs": [
    {
     "name": "stdout",
     "output_type": "stream",
     "text": [
      "[2, 4, 6, 8, 10, 12, 14, 16, 18, 20]\n"
     ]
    }
   ],
   "source": [
    "liston = []\n",
    "n = 0\n",
    "while len(liston) < 10:\n",
    "    n = n+2\n",
    "    liston.append(n)\n",
    "print(liston)"
   ]
  },
  {
   "cell_type": "markdown",
   "metadata": {},
   "source": [
    "\n",
    "#### 4. Escriba una función que nos permita calcular la suma de los cuadrados de dos números\n"
   ]
  },
  {
   "cell_type": "code",
   "execution_count": 1,
   "metadata": {},
   "outputs": [
    {
     "name": "stdout",
     "output_type": "stream",
     "text": [
      "Ingresar Primer valor\n",
      "5\n",
      "Ingresar Segundo valor\n",
      "6\n",
      "La suma de los cuadrados de tus valores es = 61\n"
     ]
    }
   ],
   "source": [
    "print('Ingresar Primer valor')\n",
    "x = int(input())\n",
    "\n",
    "print ('Ingresar Segundo valor')\n",
    "y = int(input())\n",
    "\n",
    "suma = ((x**2) + (y**2))\n",
    "print('La suma de los cuadrados de tus valores es =', suma)"
   ]
  },
  {
   "cell_type": "markdown",
   "metadata": {},
   "source": [
    "#### 5. Escriba una función que calcule, guarde en una lista y muestre los elementos de la secuencia de Fibonacci"
   ]
  },
  {
   "cell_type": "code",
   "execution_count": 6,
   "metadata": {},
   "outputs": [],
   "source": [
    "def fibonnaci():\n",
    "    print('Cuantos valores quieres en tu serie Fibonacci')\n",
    "    n = int(input())\n",
    "    listafib = [0,1]\n",
    "\n",
    "    for i in range(n-2):\n",
    "        s = listafib[-2]\n",
    "        r = listafib[-1]\n",
    "        z = s + r\n",
    "        listafib.append(z)\n",
    "    print(listafib)"
   ]
  },
  {
   "cell_type": "code",
   "execution_count": 8,
   "metadata": {},
   "outputs": [
    {
     "name": "stdout",
     "output_type": "stream",
     "text": [
      "Cuantos valores quieres en tu serie Fibonacci\n",
      "5\n",
      "[0, 1, 1, 2, 3]\n"
     ]
    }
   ],
   "source": [
    "fibonnaci()"
   ]
  },
  {
   "cell_type": "markdown",
   "metadata": {},
   "source": [
    "#### 6. Crear una función que reciba un parámetro númerico e imprima el nombre de una fruta:  *Naranjas* si el parámetro es igual a 0, *Manzanas* si el parámetro es igual a 1 y *Peras* si el paráemtro es igual a 2 "
   ]
  },
  {
   "cell_type": "code",
   "execution_count": null,
   "metadata": {},
   "outputs": [],
   "source": [
    "def frutas():\n",
    "    print('Ingresar valor')\n",
    "    x = int(input())\n",
    "\n",
    "    if x == 0:\n",
    "        print('Naranjas')\n",
    "    elif x == 1:\n",
    "        print('Manzanas')\n",
    "    elif (x == 2):\n",
    "        print('Peras')    \n",
    "    else:\n",
    "         print('Valor invalido')"
   ]
  },
  {
   "cell_type": "code",
   "execution_count": 11,
   "metadata": {},
   "outputs": [
    {
     "name": "stdout",
     "output_type": "stream",
     "text": [
      "Ingresar valor\n",
      "5\n",
      "Valor invalido\n"
     ]
    }
   ],
   "source": [
    "frutas()"
   ]
  },
  {
   "cell_type": "markdown",
   "metadata": {},
   "source": [
    "#### 7. Crear una función la función error: imprima un mensaje que notifique al usuario si existe un error\n"
   ]
  },
  {
   "cell_type": "code",
   "execution_count": null,
   "metadata": {},
   "outputs": [],
   "source": [
    "def error():\n",
    "    print('Cometiste un error')"
   ]
  },
  {
   "cell_type": "code",
   "execution_count": 15,
   "metadata": {},
   "outputs": [
    {
     "name": "stdout",
     "output_type": "stream",
     "text": [
      "Cometiste un error\n"
     ]
    }
   ],
   "source": [
    "error()"
   ]
  },
  {
   "cell_type": "markdown",
   "metadata": {},
   "source": [
    "#### 8. Definamos la función matemática del valor absoluto de un número:  Si el número de entrada es negativo, devolver el valor e imprimir un mensaje semejante a \"El valor absoluto es:\". Si no, devolver el valor del número introducido e imprimir el mismo mensaje\n",
    "   "
   ]
  },
  {
   "cell_type": "code",
   "execution_count": 20,
   "metadata": {},
   "outputs": [],
   "source": [
    "def absolute():\n",
    "    print('Ingresar un valor')\n",
    "    x = int(input())\n",
    "    if x < 0:\n",
    "        print('El valor absoluto es=', abs(x))\n",
    "    else:\n",
    "        print('El valor absoluto es=',x)\n",
    "\n",
    "\n"
   ]
  },
  {
   "cell_type": "code",
   "execution_count": 22,
   "metadata": {},
   "outputs": [
    {
     "name": "stdout",
     "output_type": "stream",
     "text": [
      "Ingresar un valor\n",
      "-5\n",
      "El valor absoluto es= 5\n"
     ]
    }
   ],
   "source": [
    "absolute()"
   ]
  },
  {
   "cell_type": "markdown",
   "metadata": {},
   "source": [
    "#### 9.Defininir una función que realice el cambio del valor de dos variables: el valor de la primera se otorga a la segunda y viceversa. \n",
    "\n",
    "\n"
   ]
  },
  {
   "cell_type": "code",
   "execution_count": 32,
   "metadata": {},
   "outputs": [],
   "source": [
    "def crazyfriday():\n",
    "    n=0\n",
    "    print('Ingresar Primer valor')\n",
    "    x = int(input())\n",
    "    n = x\n",
    "    print ('Ingresar Segundo valor')\n",
    "    y = int(input())        \n",
    "    x = y\n",
    "    y = n\n",
    "    print(x,y)"
   ]
  },
  {
   "cell_type": "code",
   "execution_count": 33,
   "metadata": {},
   "outputs": [
    {
     "name": "stdout",
     "output_type": "stream",
     "text": [
      "Ingresar Primer valor\n",
      "5\n",
      "Ingresar Segundo valor\n",
      "7\n",
      "7 5\n"
     ]
    }
   ],
   "source": [
    "crazyfriday()"
   ]
  },
  {
   "cell_type": "markdown",
   "metadata": {},
   "source": [
    "#### 10. Cree un programa que le pida al usuario que ingrese su nombre y su edad. Imprima un mensaje dirigido a ellos que les diga el año en que cumplirán 100 años."
   ]
  },
  {
   "cell_type": "code",
   "execution_count": 56,
   "metadata": {},
   "outputs": [],
   "source": [
    "import time\n",
    "def deadtime():\n",
    "    print('Ingresar su Nombre:')\n",
    "    x = str(input())\n",
    "    print('Ingresar su Edad actual:')\n",
    "    y = int(input())\n",
    "    n = (time.strftime(\"%Y\"))\n",
    "    \n",
    "    z = 100 - y\n",
    "    s = int(n) + z\n",
    "    \n",
    "    print(x+', llegaras a tus 100 años en el año:' + str(s))\n",
    "    "
   ]
  },
  {
   "cell_type": "code",
   "execution_count": 57,
   "metadata": {},
   "outputs": [
    {
     "name": "stdout",
     "output_type": "stream",
     "text": [
      "Ingresar su Nombre:\n",
      "r\n",
      "Ingresar su Edad actual:\n",
      "24\n",
      "r, llegaras a tus 100 años en el año:2096\n"
     ]
    }
   ],
   "source": [
    "deadtime()"
   ]
  },
  {
   "cell_type": "markdown",
   "metadata": {},
   "source": [
    "#### 11. Pregunte al usuario por un número. Dependiendo de si el número es par o impar, imprima un mensaje apropiado para el usuario.\n",
    "\n"
   ]
  },
  {
   "cell_type": "code",
   "execution_count": 55,
   "metadata": {},
   "outputs": [
    {
     "name": "stdout",
     "output_type": "stream",
     "text": [
      "Ingresar valor\n",
      "3\n",
      "El valor ingresado es IMPAR\n"
     ]
    }
   ],
   "source": [
    "print('Ingresar valor')\n",
    "x = int(input())\n",
    "y = x % 2\n",
    "if y == 0:\n",
    "    print('El valor ingresado es PAR')\n",
    "elif y != 0:\n",
    "    print('El valor ingresado es IMPAR')"
   ]
  },
  {
   "cell_type": "markdown",
   "metadata": {},
   "source": [
    "#### 12. Escriba una función que reciba una lista  como parámetro y devuelva una nueva lista que contenga todos los elementos de la primera lista menos todos los duplicados.\n"
   ]
  },
  {
   "cell_type": "code",
   "execution_count": 61,
   "metadata": {},
   "outputs": [],
   "source": [
    "def duplicate(lista):\n",
    "    lista2 = set(lista)\n",
    "    print(lista2)"
   ]
  },
  {
   "cell_type": "code",
   "execution_count": 64,
   "metadata": {},
   "outputs": [
    {
     "name": "stdout",
     "output_type": "stream",
     "text": [
      "{1, 2, 3, 4, 5, 6, 7, 8, 9}\n"
     ]
    }
   ],
   "source": [
    "lista = [1,5,6,7,8,4,3,2,4,2,6,8,9]\n",
    "duplicate(lista)"
   ]
  },
  {
   "cell_type": "markdown",
   "metadata": {},
   "source": [
    "#### 13. Haz un juego de dos jugadores de piedra, papel y tijeras, Dada una función de dos entradas, compáralas, imprime un mensaje de felicitaciones al ganador."
   ]
  },
  {
   "cell_type": "code",
   "execution_count": 74,
   "metadata": {},
   "outputs": [
    {
     "name": "stdout",
     "output_type": "stream",
     "text": [
      "J1 escoja 1=Piedra, 2=Papel, 3=Tijeras\n",
      "2\n",
      "J2 escoja 1=Piedra, 2=Papel, 3=Tijeras\n",
      "3\n",
      "Gana Jugador 2\n"
     ]
    }
   ],
   "source": [
    "def j1():\n",
    "    print('Gana Jugador 1')\n",
    "    \n",
    "def j2():\n",
    "    print('Gana Jugador 2')\n",
    "    \n",
    "print('J1 escoja 1=Piedra, 2=Papel, 3=Tijeras')\n",
    "x= int(input())\n",
    "\n",
    "print('J2 escoja 1=Piedra, 2=Papel, 3=Tijeras')\n",
    "y = int(input())\n",
    "\n",
    "if x == y:\n",
    "    print('Empate!')\n",
    "elif x == 1:\n",
    "    j1()\n",
    "elif x == 2:\n",
    "    if y == 1:\n",
    "        j1()\n",
    "    else:\n",
    "        j2()\n",
    "elif x == 3:\n",
    "    if y == 1:\n",
    "        j1()\n",
    "    else:\n",
    "        j2()"
   ]
  },
  {
   "cell_type": "markdown",
   "metadata": {},
   "source": [
    "\n",
    "#### 14. Similar al ejercicio pasado, haz un juego de piedra papel y tijeras en una función que: pregunte a los usuarios sobre sus opciones, haga las comparaciones, entregue el resultado. Finalmente pregunte si quieren seguir jugnado y si sí, comience el juego de nuevo. "
   ]
  },
  {
   "cell_type": "code",
   "execution_count": 99,
   "metadata": {},
   "outputs": [],
   "source": [
    "def gameppt():\n",
    "    def j1():\n",
    "        print('Gana Jugador 1')\n",
    "    def j2():\n",
    "        print('Gana Jugador 2')\n",
    "        \n",
    "    print('J1 escoja 1=Piedra, 2=Papel, 3=Tijeras')\n",
    "    x= int(input())\n",
    "\n",
    "    print('J2 escoja 1=Piedra, 2=Papel, 3=Tijeras')\n",
    "    y = int(input())\n",
    "\n",
    "    if x == y:\n",
    "        print('Empate!')\n",
    "    elif x == 1:\n",
    "         j1()\n",
    "    elif x == 2:\n",
    "        if y == 1:\n",
    "            j1()\n",
    "        else:\n",
    "            j2()\n",
    "    elif x == 3:\n",
    "        if y == 1:\n",
    "            j1()\n",
    "        else:\n",
    "            j2()\n",
    "    print('Quieres volver a jugar? y/n')\n",
    "    n = str(input())\n",
    "    if n == 'y':\n",
    "        gameppt()\n",
    "    else:\n",
    "        print('Gracias por jugar')"
   ]
  },
  {
   "cell_type": "code",
   "execution_count": 100,
   "metadata": {},
   "outputs": [
    {
     "name": "stdout",
     "output_type": "stream",
     "text": [
      "J1 escoja 1=Piedra, 2=Papel, 3=Tijeras\n",
      "1\n",
      "J2 escoja 1=Piedra, 2=Papel, 3=Tijeras\n",
      "1\n",
      "Empate!\n",
      "Quieres volver a jugar? y/n\n",
      "n\n",
      "Gracias por jugar\n"
     ]
    }
   ],
   "source": [
    "gameppt()"
   ]
  },
  {
   "cell_type": "markdown",
   "metadata": {},
   "source": [
    "#### 15. Dada una oración, realice las operaciones necesarias para invertir el orden de las palabras "
   ]
  },
  {
   "cell_type": "code",
   "execution_count": 103,
   "metadata": {},
   "outputs": [
    {
     "name": "stdout",
     "output_type": "stream",
     "text": [
      "Ingresa una oracion\n",
      "Hola mi nombre\n",
      "erbmon im aloH\n"
     ]
    }
   ],
   "source": [
    "print('Ingresa una oracion')\n",
    "cadena = str(input())\n",
    "cadenaInvertida = cadena[::-1]\n",
    "print(cadenaInvertida)"
   ]
  },
  {
   "cell_type": "markdown",
   "metadata": {},
   "source": [
    "#### 16. Crea un generador de contraseñas, donde la longitud sea un parámetro de entrada para el usuario. Usa letras mayúsculas, minúsculas y números. "
   ]
  },
  {
   "cell_type": "code",
   "execution_count": 4,
   "metadata": {},
   "outputs": [
    {
     "name": "stdout",
     "output_type": "stream",
     "text": [
      "Ingresa la longitud de tu contraseña\n",
      "8\n",
      "Esta es tu  nueva Contraseña LxZnHTxv\n"
     ]
    }
   ],
   "source": [
    "numeros ='0123456789'\n",
    "import string\n",
    "import random\n",
    "aleatorio = string.ascii_letters + numeros\n",
    "print('Ingresa la longitud de tu contraseña')\n",
    "x = int(input())\n",
    "p = ''\n",
    "while x != 0:\n",
    "    p = p + random.choice(aleatorio)\n",
    "    x = x-1\n",
    "print('Esta es tu  nueva Contraseña',p)"
   ]
  },
  {
   "cell_type": "markdown",
   "metadata": {},
   "source": [
    "#### 17. Cree un archivo de texto (extensión .txt) con letras aleatorias (incluyendo espacios) con una extensión de 500 caracteres. "
   ]
  },
  {
   "cell_type": "code",
   "execution_count": 10,
   "metadata": {},
   "outputs": [],
   "source": [
    "import string\n",
    "import random\n",
    "notas=open(\"notas.txt\",\"w\")\n",
    "texto= string.ascii_letters + \" \"\n",
    "for i in range (0,500):\n",
    "    notas.write(random.choice(texto))\n",
    "notas.close()"
   ]
  },
  {
   "cell_type": "markdown",
   "metadata": {},
   "source": [
    "#### 18. Lee el archivo pasado e invierte todo el texto (hola -> aloh) y guardalo con un nombre diferente. "
   ]
  },
  {
   "cell_type": "code",
   "execution_count": 12,
   "metadata": {},
   "outputs": [],
   "source": [
    "notas=open(\"notas.txt\",\"r\")\n",
    "contenido = notas.read()\n",
    "invcont = contenido[::-1]\n",
    "notas2=open(\"notasinv.txt\",\"w\")\n",
    "notas2.write(invcont)\n",
    "notas.close()\n",
    "notas2.close()"
   ]
  },
  {
   "cell_type": "markdown",
   "metadata": {},
   "source": [
    "#### 19. Compara dos listas (pueden ser de diferentes tamaños. Construye dos listas: una con los elementos en común y otra con el resto de los elementos. \n"
   ]
  },
  {
   "cell_type": "code",
   "execution_count": 16,
   "metadata": {},
   "outputs": [],
   "source": [
    "#segun lo que entendi de de dos listas vamoso a sacar los elementos que no se repitan en ninguna de las dos..\n",
    "def duplic(list1,list2):\n",
    "    y = set(list1)\n",
    "    s = set(list2)\n",
    "    z = s.difference(y)\n",
    "    print(z)\n",
    " "
   ]
  },
  {
   "cell_type": "code",
   "execution_count": 17,
   "metadata": {},
   "outputs": [
    {
     "name": "stdout",
     "output_type": "stream",
     "text": [
      "{1, 2, 3}\n"
     ]
    }
   ],
   "source": [
    "duplic([5,7,5,6,8,7,4,9,8,5,6],[7,8,9,4,5,6,8,9,5,7,4,6,9,2,3,5,1,2,2,1,3])"
   ]
  }
 ],
 "metadata": {
  "kernelspec": {
   "display_name": "Python 3",
   "language": "python",
   "name": "python3"
  },
  "language_info": {
   "codemirror_mode": {
    "name": "ipython",
    "version": 3
   },
   "file_extension": ".py",
   "mimetype": "text/x-python",
   "name": "python",
   "nbconvert_exporter": "python",
   "pygments_lexer": "ipython3",
   "version": "3.7.6"
  }
 },
 "nbformat": 4,
 "nbformat_minor": 2
}
