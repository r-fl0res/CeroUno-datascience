{
 "cells": [
  {
   "cell_type": "markdown",
   "metadata": {},
   "source": [
    "## Ejercicios Sesión 3"
   ]
  },
  {
   "cell_type": "markdown",
   "metadata": {},
   "source": [
    "1. Escribe un script que tome un número ingresado por el usuario e imprima si es positivo, negativo o cero.\n",
    "\n",
    " Debe imprimirse de la siguiente forma \"El número ingresado es (positivo / negativo / cero)\"."
   ]
  },
  {
   "cell_type": "code",
   "execution_count": 9,
   "metadata": {},
   "outputs": [
    {
     "name": "stdout",
     "output_type": "stream",
     "text": [
      "Ingresa un valor\n",
      "-2\n",
      "El numero ingresado es negativo\n"
     ]
    }
   ],
   "source": [
    "print('Ingresa un valor')\n",
    "x= int(input())\n",
    "\n",
    "if x < 0: \n",
    "    print ('El numero ingresado es negativo')\n",
    "\n",
    "elif x > 0:\n",
    "    print ('El numero ingresado es positivo')\n",
    "\n",
    "elif x == 0:\n",
    "    print ('El numero ingresado es cero')"
   ]
  },
  {
   "cell_type": "markdown",
   "metadata": {},
   "source": [
    "2. Escribe una secuencia de comandos que tome dos números ingresados por el usuario e imprima \"El primer número es mayor\" o \"El segundo número es mayor\" dependiendo de cuál sea mayor. (** Sugerencia **: necesitará usar `input ()` dos veces.)"
   ]
  },
  {
   "cell_type": "code",
   "execution_count": 7,
   "metadata": {},
   "outputs": [
    {
     "name": "stdout",
     "output_type": "stream",
     "text": [
      "Ingresar Primer valor\n",
      "7\n",
      "Ingresar Segundo valor\n",
      "5\n",
      "El primer valor es mayor\n"
     ]
    }
   ],
   "source": [
    "print('Ingresar Primer valor')\n",
    "x = int(input())\n",
    "\n",
    "print ('Ingresar Segundo valor')\n",
    "y = int(input())\n",
    "\n",
    "if x > y :\n",
    "    print('El primer valor es mayor')\n",
    "    \n",
    "else:\n",
    "    print('El segundo valor es mayor')\n",
    "        \n"
   ]
  },
  {
   "cell_type": "markdown",
   "metadata": {},
   "source": [
    "3. Escriba un script que calcule la suma de 0 a un número ingresado por el usuario. Sin embargo, esta vez, comience con el número ingresado por el usuario y continúe hacia abajo. Esta respuesta se parecerá mucho al ejemplo anterior, solo tendrá que cambiar un par de cosas."
   ]
  },
  {
   "cell_type": "code",
   "execution_count": 2,
   "metadata": {},
   "outputs": [
    {
     "name": "stdout",
     "output_type": "stream",
     "text": [
      "Ingresar valor\n",
      "3\n",
      "La suma final es=  6\n"
     ]
    }
   ],
   "source": [
    "print('Ingresar valor')\n",
    "x = int(input())\n",
    "\n",
    "n=0\n",
    "while x > 0:\n",
    "    y = x + n\n",
    "    n = n + x\n",
    "    x = x - 1\n",
    "    \n",
    "print('La suma final es= ' , y)"
   ]
  },
  {
   "cell_type": "markdown",
   "metadata": {},
   "source": [
    "4. Escriba un script que calcule el factorial de un número ingresado por el usuario. Si no sabe qué es un factorial o necesita una revisión, consulte el enlace (https://en.wikipedia.org/wiki/Factorial). Una vez más, su solución se parecerá mucho al código anterior. Cosas que debes pensar:\n",
    "    * ¿Cuál es el proceso de calcular un factorial si fuera a calcularlo a mano?\n",
    "    * ¿Cuál es el punto de partida común cuando se trata de calcular el factorial de cualquier número? <br> <br>"
   ]
  },
  {
   "cell_type": "code",
   "execution_count": 10,
   "metadata": {},
   "outputs": [
    {
     "name": "stdout",
     "output_type": "stream",
     "text": [
      "Ingresar el valor del que deseas su Factorial\n",
      "5\n",
      "El !5 es = 120\n"
     ]
    }
   ],
   "source": [
    "print('Ingresar el valor del que deseas su Factorial')\n",
    "x = int(input())\n",
    "y = x\n",
    "z= x\n",
    "while x > 0:\n",
    "    \n",
    "    if x == 1:\n",
    "        break\n",
    "    z= z * (x-1)\n",
    "    x = x - 1\n",
    "r = str(z)\n",
    "s = str(y)\n",
    "print('El !'+s+' es = '+r)"
   ]
  },
  {
   "cell_type": "markdown",
   "metadata": {},
   "source": [
    "5. Escriba un script que calcule e imprima todos los divisores de un número ingresado por el usuario. Si no sabe qué es un divisor o necesita una revisión, consulte el enlace(https://en.wikipedia.org/wiki/Divisor). Cosas para pensar:\n",
    "    * ¿Cómo se determina si un solo número es un divisor de otro?\n",
    "    * ¿Cómo haces esto varias veces (** Sugerencia **: implica un ciclo while)?\n",
    "    * ¿Cuándo detiene el ciclo? <br> <br>"
   ]
  },
  {
   "cell_type": "code",
   "execution_count": 8,
   "metadata": {},
   "outputs": [
    {
     "name": "stdout",
     "output_type": "stream",
     "text": [
      "Ingresar valor\n",
      "13\n",
      "Divisores del numero ingresado: 13\n",
      "1\n"
     ]
    }
   ],
   "source": [
    "print('Ingresar valor')\n",
    "x = int(input())\n",
    "print('Divisores del numero ingresado:',x)\n",
    "n=x\n",
    "while x >= 2:\n",
    "    y = x - 1\n",
    "    if 0 == n % y:\n",
    "        print(y)\n",
    "    x = x - 1"
   ]
  },
  {
   "cell_type": "markdown",
   "metadata": {},
   "source": [
    "6. Escriba un script que calcule el máximo divisor común entre dos números ingresados por el usuario. Si no sabe cuál es el mayor divisor común, consulte el enlace (https://en.wikipedia.org/wiki/Greatest_common_divisor). Cosas para pensar:\n",
    "    * ¿Cómo se obtienen dos números del usuario?\n",
    "    * ¿Dónde debe comenzar su búsqueda del GCD?\n",
    "    * ¿Dónde / cómo debe finalizar su búsqueda? <br> <br>"
   ]
  },
  {
   "cell_type": "code",
   "execution_count": 20,
   "metadata": {},
   "outputs": [
    {
     "name": "stdout",
     "output_type": "stream",
     "text": [
      "Ingresar primer valor\n",
      "2366\n",
      "Ingresar segundo valor\n",
      "273\n",
      "Este es tu MCD= [91]\n"
     ]
    }
   ],
   "source": [
    "#MAXIMO COMUN DIVISOR POR EL ALGORITMO DE EUCLIDES \n",
    "print('Ingresar primer valor')\n",
    "x = int(input())\n",
    "print('Ingresar segundo valor')\n",
    "y = int(input())\n",
    "\n",
    "if x == 0:\n",
    "    y != 0\n",
    "    print('Este es tu MCD=', y)\n",
    "elif y == 0:\n",
    "        x != 0\n",
    "        print('Este es tu MCD=', x)\n",
    "        \n",
    "else:\n",
    "    n = x % y\n",
    "    milista = []\n",
    "    while n != 0:\n",
    "        g = n\n",
    "        n = y % n\n",
    "        milista.append(n)\n",
    "    print('Este es tu MCD=', milista[:-1])"
   ]
  },
  {
   "cell_type": "markdown",
   "metadata": {},
   "source": [
    "7. Escribe un script que calcule el mínimo común múltiplo entre dos números ingresados por el usuario. Si no sabes cuál es el mínimo común múltiplo o deseas una revisión, puedes consultar (https://en.wikipedia.org/wiki/Least_common_multiple). Cosas para pensar:\n",
    "    * ¿Cómo se obtienen dos números del usuario?\n",
    "    * ¿Dónde debe comenzar su búsqueda del LCM?\n",
    "    * ¿Dónde / cómo debe finalizar su búsqueda? <br> <br>"
   ]
  },
  {
   "cell_type": "code",
   "execution_count": 8,
   "metadata": {},
   "outputs": [
    {
     "name": "stdout",
     "output_type": "stream",
     "text": [
      "Ingresar primer valor\n",
      "72\n",
      "Ingresar segundo valor\n",
      "50\n",
      "Este es tu MCM= 1800\n"
     ]
    }
   ],
   "source": [
    "#CALCULO DEL MINIMO COMUN MULTIPLO A PARTIR DEL MINIMO COMUN DIVISOR\n",
    "print('Ingresar primer valor')\n",
    "x = int(input())\n",
    "print('Ingresar segundo valor')\n",
    "y = int(input())\n",
    "\n",
    "if x == 0:\n",
    "    y != 0\n",
    "    print('Este es tu MCD=', y)\n",
    "elif y == 0:\n",
    "        x != 0\n",
    "        print('Este es tu MCD=', x)\n",
    "        \n",
    "else:\n",
    "    n = x % y\n",
    "    milista = []\n",
    "    while n != 0:\n",
    "        g = n\n",
    "        n = y % n\n",
    "        milista.append(n)  \n",
    "milista.reverse()\n",
    "r = milista[1]\n",
    "z = x*y / r\n",
    "print('Este es tu MCM=', int(z))\n"
   ]
  },
  {
   "cell_type": "markdown",
   "metadata": {},
   "source": [
    "8. Escribe una secuencia de comandos que determine si un número ingresado por el usuario es un número primo e imprime `` El número que ingresó es (no es) un número primo '', según lo que encuentre su secuencia de comandos. Si no sabes qué es un número primo o necesita una revisión, consulte el enlace (https://en.wikipedia.org/wiki/Prime_number). Cosas para pensar:\n",
    "    * ¿Cómo verifica si un número es divisible por otro número?\n",
    "    * ¿Qué números son divisibles por un número primo?\n",
    "    * ¿Cómo verifica todos los números por los que un número puede ser divisible (** Sugerencia **: use un bucle)?\n",
    "    * ¿Cuándo detiene el ciclo? <br> <br>"
   ]
  },
  {
   "cell_type": "code",
   "execution_count": 29,
   "metadata": {},
   "outputs": [
    {
     "name": "stdout",
     "output_type": "stream",
     "text": [
      "Ingresar valor, para conocer si es o no un numero primo\n",
      "3\n",
      "El numero que ingreso es un numero primo\n"
     ]
    }
   ],
   "source": [
    "print('Ingresar valor, para conocer si es o no un numero primo')\n",
    "x = int(input())\n",
    "n=x\n",
    "milista = []\n",
    "while x >= 2:\n",
    "    y = x - 1\n",
    "    if 0 == n % y:\n",
    "        milista.append(y)\n",
    "    x = x - 1\n",
    "if milista[0] == 1:\n",
    "    print('El numero que ingreso es un numero primo')\n",
    "else:\n",
    "    print('El numero que ingreso no es un numero primo')\n"
   ]
  }
 ],
 "metadata": {
  "kernelspec": {
   "display_name": "Python 3",
   "language": "python",
   "name": "python3"
  },
  "language_info": {
   "codemirror_mode": {
    "name": "ipython",
    "version": 3
   },
   "file_extension": ".py",
   "mimetype": "text/x-python",
   "name": "python",
   "nbconvert_exporter": "python",
   "pygments_lexer": "ipython3",
   "version": "3.7.4"
  }
 },
 "nbformat": 4,
 "nbformat_minor": 2
}
